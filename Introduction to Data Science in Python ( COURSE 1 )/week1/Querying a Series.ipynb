{
 "cells": [
  {
   "cell_type": "code",
   "execution_count": 3,
   "id": "95ad6997",
   "metadata": {},
   "outputs": [],
   "source": [
    "alist = ['a' , 'b' , 'v' , None ]"
   ]
  },
  {
   "cell_type": "code",
   "execution_count": 8,
   "id": "07710591",
   "metadata": {},
   "outputs": [],
   "source": [
    "import pandas as pd\n",
    "import numpy as np"
   ]
  },
  {
   "cell_type": "code",
   "execution_count": 9,
   "id": "a0a6c254",
   "metadata": {},
   "outputs": [],
   "source": [
    "s = pd.Series(alist)"
   ]
  },
  {
   "cell_type": "code",
   "execution_count": 10,
   "id": "e20c8206",
   "metadata": {},
   "outputs": [
    {
     "data": {
      "text/plain": [
       "0       a\n",
       "1       b\n",
       "2       v\n",
       "3    None\n",
       "dtype: object"
      ]
     },
     "execution_count": 10,
     "metadata": {},
     "output_type": "execute_result"
    }
   ],
   "source": [
    "s"
   ]
  },
  {
   "cell_type": "code",
   "execution_count": 12,
   "id": "64714889",
   "metadata": {},
   "outputs": [
    {
     "data": {
      "text/plain": [
       "False"
      ]
     },
     "execution_count": 12,
     "metadata": {},
     "output_type": "execute_result"
    }
   ],
   "source": [
    "np.nan == None"
   ]
  },
  {
   "cell_type": "code",
   "execution_count": 14,
   "id": "1b66a027",
   "metadata": {},
   "outputs": [
    {
     "data": {
      "text/plain": [
       "True"
      ]
     },
     "execution_count": 14,
     "metadata": {},
     "output_type": "execute_result"
    }
   ],
   "source": [
    "np.isnan(np.nan)"
   ]
  },
  {
   "cell_type": "code",
   "execution_count": 17,
   "id": "18b18e2c",
   "metadata": {},
   "outputs": [
    {
     "data": {
      "text/plain": [
       "RangeIndex(start=0, stop=4, step=1)"
      ]
     },
     "execution_count": 17,
     "metadata": {},
     "output_type": "execute_result"
    }
   ],
   "source": [
    "s.index"
   ]
  },
  {
   "cell_type": "code",
   "execution_count": 18,
   "id": "d84869bd",
   "metadata": {},
   "outputs": [],
   "source": [
    "adict = {\"Grade1\" : 10 , \"Grade2\": 12 , \"Grade3\" : 14 , \"Grade4\" : 20}"
   ]
  },
  {
   "cell_type": "code",
   "execution_count": 21,
   "id": "06367510",
   "metadata": {},
   "outputs": [],
   "source": [
    "s = pd.Series(adict, index = [\"Grade1\" , \"Grade2\" , \"Grade5\"])"
   ]
  },
  {
   "cell_type": "code",
   "execution_count": 22,
   "id": "64b132c1",
   "metadata": {},
   "outputs": [
    {
     "data": {
      "text/plain": [
       "Grade1    10.0\n",
       "Grade2    12.0\n",
       "Grade5     NaN\n",
       "dtype: float64"
      ]
     },
     "execution_count": 22,
     "metadata": {},
     "output_type": "execute_result"
    }
   ],
   "source": [
    "s"
   ]
  },
  {
   "cell_type": "code",
   "execution_count": 23,
   "id": "201d6956",
   "metadata": {},
   "outputs": [],
   "source": [
    "s = pd.Series(adict, index = [\"Grade1\" , \"Grade2\" , \"Grade3\", \"Grade4\"])"
   ]
  },
  {
   "cell_type": "code",
   "execution_count": 24,
   "id": "32b08391",
   "metadata": {},
   "outputs": [
    {
     "data": {
      "text/plain": [
       "Grade1    10\n",
       "Grade2    12\n",
       "Grade3    14\n",
       "Grade4    20\n",
       "dtype: int64"
      ]
     },
     "execution_count": 24,
     "metadata": {},
     "output_type": "execute_result"
    }
   ],
   "source": [
    "s"
   ]
  },
  {
   "cell_type": "code",
   "execution_count": 28,
   "id": "97040d57",
   "metadata": {},
   "outputs": [
    {
     "data": {
      "text/plain": [
       "10"
      ]
     },
     "execution_count": 28,
     "metadata": {},
     "output_type": "execute_result"
    }
   ],
   "source": [
    "s['Grade1']"
   ]
  },
  {
   "cell_type": "code",
   "execution_count": 29,
   "id": "64147a97",
   "metadata": {},
   "outputs": [
    {
     "data": {
      "text/plain": [
       "10"
      ]
     },
     "execution_count": 29,
     "metadata": {},
     "output_type": "execute_result"
    }
   ],
   "source": [
    "s[0]"
   ]
  },
  {
   "cell_type": "code",
   "execution_count": 25,
   "id": "cecc87c4",
   "metadata": {},
   "outputs": [],
   "source": [
    "#index by label"
   ]
  },
  {
   "cell_type": "code",
   "execution_count": 26,
   "id": "25307ab0",
   "metadata": {},
   "outputs": [
    {
     "data": {
      "text/plain": [
       "10"
      ]
     },
     "execution_count": 26,
     "metadata": {},
     "output_type": "execute_result"
    }
   ],
   "source": [
    "s[0]"
   ]
  },
  {
   "cell_type": "code",
   "execution_count": 27,
   "id": "99ab03fe",
   "metadata": {},
   "outputs": [
    {
     "data": {
      "text/plain": [
       "10"
      ]
     },
     "execution_count": 27,
     "metadata": {},
     "output_type": "execute_result"
    }
   ],
   "source": [
    "s['Grade1']"
   ]
  },
  {
   "cell_type": "code",
   "execution_count": 30,
   "id": "d7cea63e",
   "metadata": {},
   "outputs": [],
   "source": [
    "#create an array\n",
    "arr = np.arange(0,100,2)"
   ]
  },
  {
   "cell_type": "code",
   "execution_count": 31,
   "id": "ad25b02e",
   "metadata": {},
   "outputs": [
    {
     "data": {
      "text/plain": [
       "array([ 0,  2,  4,  6,  8, 10, 12, 14, 16, 18, 20, 22, 24, 26, 28, 30, 32,\n",
       "       34, 36, 38, 40, 42, 44, 46, 48, 50, 52, 54, 56, 58, 60, 62, 64, 66,\n",
       "       68, 70, 72, 74, 76, 78, 80, 82, 84, 86, 88, 90, 92, 94, 96, 98])"
      ]
     },
     "execution_count": 31,
     "metadata": {},
     "output_type": "execute_result"
    }
   ],
   "source": [
    "arr"
   ]
  },
  {
   "cell_type": "code",
   "execution_count": 34,
   "id": "9ff98507",
   "metadata": {},
   "outputs": [],
   "source": [
    "#create a series\n",
    "ser = pd.Series(arr)"
   ]
  },
  {
   "cell_type": "code",
   "execution_count": 36,
   "id": "ef9ab4fe",
   "metadata": {},
   "outputs": [
    {
     "data": {
      "text/plain": [
       "0    0\n",
       "1    2\n",
       "2    4\n",
       "3    6\n",
       "4    8\n",
       "dtype: int32"
      ]
     },
     "execution_count": 36,
     "metadata": {},
     "output_type": "execute_result"
    }
   ],
   "source": [
    "ser.head()"
   ]
  },
  {
   "cell_type": "code",
   "execution_count": 37,
   "id": "6d816385",
   "metadata": {},
   "outputs": [],
   "source": [
    "#add +2 to each item"
   ]
  },
  {
   "cell_type": "code",
   "execution_count": 38,
   "id": "29a725b5",
   "metadata": {},
   "outputs": [],
   "source": [
    "#broadcast \n",
    "\n",
    "ser += 2"
   ]
  },
  {
   "cell_type": "code",
   "execution_count": 39,
   "id": "30453e97",
   "metadata": {},
   "outputs": [
    {
     "data": {
      "text/plain": [
       "0     2\n",
       "1     4\n",
       "2     6\n",
       "3     8\n",
       "4    10\n",
       "dtype: int32"
      ]
     },
     "execution_count": 39,
     "metadata": {},
     "output_type": "execute_result"
    }
   ],
   "source": [
    "ser.head()"
   ]
  }
 ],
 "metadata": {
  "kernelspec": {
   "display_name": "Python 3 (ipykernel)",
   "language": "python",
   "name": "python3"
  },
  "language_info": {
   "codemirror_mode": {
    "name": "ipython",
    "version": 3
   },
   "file_extension": ".py",
   "mimetype": "text/x-python",
   "name": "python",
   "nbconvert_exporter": "python",
   "pygments_lexer": "ipython3",
   "version": "3.9.7"
  }
 },
 "nbformat": 4,
 "nbformat_minor": 5
}
