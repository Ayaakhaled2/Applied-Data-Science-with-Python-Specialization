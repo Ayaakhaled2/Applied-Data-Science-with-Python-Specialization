{
 "cells": [
  {
   "cell_type": "markdown",
   "id": "1dc5503b",
   "metadata": {},
   "source": [
    "#### Q1) This function should add the two values if the value of the \"kind\" parameter is \"add\" or is not passed in, otherwise it should subtract the second value from the first. \n",
    "\n",
    "- Can you fix the function so that it works?"
   ]
  },
  {
   "cell_type": "code",
   "execution_count": 9,
   "id": "0b822b6e",
   "metadata": {},
   "outputs": [
    {
     "data": {
      "text/plain": [
       "\" def do_math(?, ?, ?):\\n  if (kind=='add'):\\n    return a+b\\n  else:\\n    return a-b\\n\\ndo_math(1, 2) \""
      ]
     },
     "execution_count": 9,
     "metadata": {},
     "output_type": "execute_result"
    }
   ],
   "source": [
    "''' def do_math(?, ?, ?):\n",
    "  if (kind=='add'):\n",
    "    return a+b\n",
    "  else:\n",
    "    return a-b\n",
    "\n",
    "do_math(1, 2) '''"
   ]
  },
  {
   "cell_type": "code",
   "execution_count": 15,
   "id": "219827e5",
   "metadata": {},
   "outputs": [
    {
     "data": {
      "text/plain": [
       "43"
      ]
     },
     "execution_count": 15,
     "metadata": {},
     "output_type": "execute_result"
    }
   ],
   "source": [
    "#solution \n",
    "\n",
    "def do_math(a,b , kind = 'add'):\n",
    "    if kind == 'add' or kind == None:\n",
    "        return a + b \n",
    "    else:\n",
    "        return a - b "
   ]
  },
  {
   "cell_type": "markdown",
   "id": "7f3bd1bf",
   "metadata": {},
   "source": [
    "### Q2) What would be an appropriate slice to get the name \"Christopher\" from the string \"Dr. Christopher Brooks\"?"
   ]
  },
  {
   "cell_type": "code",
   "execution_count": 45,
   "id": "8e260366",
   "metadata": {},
   "outputs": [
    {
     "data": {
      "text/plain": [
       "\" x = 'Dr. Christopher Brooks'\\nprint(x[???]) \""
      ]
     },
     "execution_count": 45,
     "metadata": {},
     "output_type": "execute_result"
    }
   ],
   "source": [
    "''' x = 'Dr. Christopher Brooks'\n",
    "print(x[???]) '''"
   ]
  },
  {
   "cell_type": "code",
   "execution_count": 48,
   "id": "43e64c31",
   "metadata": {},
   "outputs": [
    {
     "name": "stdout",
     "output_type": "stream",
     "text": [
      "0 :  D\n",
      "1 :  r\n",
      "2 :  .\n",
      "3 :   \n",
      "4 :  C\n",
      "5 :  h\n",
      "6 :  r\n",
      "7 :  i\n",
      "8 :  s\n",
      "9 :  t\n",
      "10 :  o\n",
      "11 :  p\n",
      "12 :  h\n",
      "13 :  e\n",
      "14 :  r\n",
      "15 :   \n",
      "16 :  B\n",
      "17 :  r\n",
      "18 :  o\n",
      "19 :  o\n",
      "20 :  k\n",
      "21 :  s\n"
     ]
    }
   ],
   "source": [
    "#answer\n",
    "x = 'Dr. Christopher Brooks'\n",
    "for idx , char in enumerate(x):\n",
    "    print( idx , ': ' , char)"
   ]
  },
  {
   "cell_type": "code",
   "execution_count": 49,
   "id": "e249cffb",
   "metadata": {},
   "outputs": [
    {
     "name": "stdout",
     "output_type": "stream",
     "text": [
      "Christopher\n"
     ]
    }
   ],
   "source": [
    "substr = x[4:15]\n",
    "print(substr)"
   ]
  },
  {
   "cell_type": "markdown",
   "id": "7fb629e5",
   "metadata": {},
   "source": [
    "#### Q3) Here is a list of faculty teaching this MOOC. Can you write a function and apply it using map() to get a list of all faculty titles and last names (e.g. ['Dr. Brooks', 'Dr. Collins-Thompson', …]) ?"
   ]
  },
  {
   "cell_type": "code",
   "execution_count": 84,
   "id": "0d8626bf",
   "metadata": {},
   "outputs": [
    {
     "data": {
      "text/plain": [
       "\" people = ['Dr. Christopher Brooks', 'Dr. Kevyn Collins-Thompson', 'Dr. VG Vinod Vydiswaran', 'Dr. Daniel Romero']\\n\\ndef split_title_and_name(person):\\n    return #Your answer here\\n\\nlist(map(#Your answer here))\""
      ]
     },
     "execution_count": 84,
     "metadata": {},
     "output_type": "execute_result"
    }
   ],
   "source": [
    "''' people = ['Dr. Christopher Brooks', 'Dr. Kevyn Collins-Thompson', 'Dr. VG Vinod Vydiswaran', 'Dr. Daniel Romero']\n",
    "\n",
    "def split_title_and_name(person):\n",
    "    return #Your answer here\n",
    "\n",
    "list(map(#Your answer here))'''"
   ]
  },
  {
   "cell_type": "code",
   "execution_count": 85,
   "id": "ef34f7b3",
   "metadata": {},
   "outputs": [],
   "source": [
    "people = ['Dr. Christopher Brooks', 'Dr. Kevyn Collins-Thompson', 'Dr. VG Vinod Vydiswaran', 'Dr. Daniel Romero']"
   ]
  },
  {
   "cell_type": "code",
   "execution_count": 163,
   "id": "0258e891",
   "metadata": {},
   "outputs": [],
   "source": [
    "def split_title_and_name(people):\n",
    "    titles = []\n",
    "    for item in people:\n",
    "        split_item = item.split(' ')\n",
    "        print(split_item)\n",
    "        titles.append(\"{} {}\".format(split_item[0],split_item[-1]))\n",
    "    return titles"
   ]
  },
  {
   "cell_type": "code",
   "execution_count": 173,
   "id": "67b58c2e",
   "metadata": {},
   "outputs": [],
   "source": [
    "def split_list(item_of_list):\n",
    "    titles = []\n",
    "    list_items = item_of_list.split(' ')\n",
    "    titles.append(list_items[0] + ' ' + list_items[-1])\n",
    "    return titles"
   ]
  },
  {
   "cell_type": "code",
   "execution_count": 174,
   "id": "45f66a5e",
   "metadata": {},
   "outputs": [
    {
     "data": {
      "text/plain": [
       "[['Dr. Brooks'], ['Dr. Collins-Thompson'], ['Dr. Vydiswaran'], ['Dr. Romero']]"
      ]
     },
     "execution_count": 174,
     "metadata": {},
     "output_type": "execute_result"
    }
   ],
   "source": [
    "list(map(split_list,people))"
   ]
  },
  {
   "cell_type": "code",
   "execution_count": 145,
   "id": "252d5262",
   "metadata": {},
   "outputs": [
    {
     "data": {
      "text/plain": [
       "['Dr. Brooks', 'Dr. Collins-Thompson', 'Dr. Vydiswaran', 'Dr. Romero']"
      ]
     },
     "execution_count": 145,
     "metadata": {},
     "output_type": "execute_result"
    }
   ],
   "source": [
    "people = ['Dr. Christopher Brooks', 'Dr. Kevyn Collins-Thompson', 'Dr. VG Vinod Vydiswaran', 'Dr. Daniel Romero']\n",
    "\n",
    "def split_title_and_name(person):\n",
    "    title = person.split()[0]\n",
    "    lastname = person.split()[-1]\n",
    "    return '{} {}'.format(title, lastname)\n",
    "\n",
    "list(map(split_title_and_name, people))"
   ]
  },
  {
   "cell_type": "markdown",
   "id": "b83d882a",
   "metadata": {},
   "source": [
    "### Q4) Convert the function to lambda "
   ]
  },
  {
   "cell_type": "code",
   "execution_count": 175,
   "id": "cfe2646e",
   "metadata": {},
   "outputs": [
    {
     "data": {
      "text/plain": [
       "\" people = ['Dr. Christopher Brooks', 'Dr. Kevyn Collins-Thompson', 'Dr. VG Vinod Vydiswaran', 'Dr. Daniel Romero']\\n\\ndef split_title_and_name(person):\\n    return person.split()[0] + ' ' + person.split()[-1]\\n\\n#option 1\\nfor person in people:\\n    print(split_title_and_name(person) == (lambda person:???))\\n\\n#option 2\\n#list(map(split_title_and_name, people)) == list(map(???))\\n \""
      ]
     },
     "execution_count": 175,
     "metadata": {},
     "output_type": "execute_result"
    }
   ],
   "source": [
    "''' people = ['Dr. Christopher Brooks', 'Dr. Kevyn Collins-Thompson', 'Dr. VG Vinod Vydiswaran', 'Dr. Daniel Romero']\n",
    "\n",
    "def split_title_and_name(person):\n",
    "    return person.split()[0] + ' ' + person.split()[-1]\n",
    "\n",
    "#option 1\n",
    "for person in people:\n",
    "    print(split_title_and_name(person) == (lambda person:???))\n",
    "\n",
    "#option 2\n",
    "#list(map(split_title_and_name, people)) == list(map(???))\n",
    " '''"
   ]
  },
  {
   "cell_type": "code",
   "execution_count": 177,
   "id": "c59a0ce6",
   "metadata": {},
   "outputs": [],
   "source": [
    "people = ['Dr. Christopher Brooks', 'Dr. Kevyn Collins-Thompson', 'Dr. VG Vinod Vydiswaran', 'Dr. Daniel Romero']"
   ]
  },
  {
   "cell_type": "code",
   "execution_count": 178,
   "id": "42ee7f68",
   "metadata": {},
   "outputs": [
    {
     "data": {
      "text/plain": [
       "<function __main__.<lambda>(alist)>"
      ]
     },
     "execution_count": 178,
     "metadata": {},
     "output_type": "execute_result"
    }
   ],
   "source": [
    "lambda alist: \"{} {}\".format(alist.split[0], alist.split[1])"
   ]
  },
  {
   "cell_type": "code",
   "execution_count": 196,
   "id": "b392b260",
   "metadata": {},
   "outputs": [
    {
     "name": "stdout",
     "output_type": "stream",
     "text": [
      "Dr. Christopher\n",
      "Dr. Kevyn\n",
      "Dr. VG\n",
      "Dr. Daniel\n"
     ]
    }
   ],
   "source": [
    "lambda_fun = lambda alist: \"{} {}\".format(alist.split(\" \")[0], alist.split(\" \")[1])\n",
    "for item in people:\n",
    "    print(lambda_fun(item))"
   ]
  },
  {
   "cell_type": "markdown",
   "id": "60bb3136",
   "metadata": {},
   "source": [
    "#### Q5) Here, why don’t you try converting a function into a list comprehension"
   ]
  },
  {
   "cell_type": "code",
   "execution_count": 197,
   "id": "3e1596e8",
   "metadata": {},
   "outputs": [
    {
     "data": {
      "text/plain": [
       "' def times_tables():\\n    lst = []\\n    for i in range(10):\\n        for j in range (10):\\n            lst.append(i*j)\\n    return lst\\n\\ntimes_tables() == [???] '"
      ]
     },
     "execution_count": 197,
     "metadata": {},
     "output_type": "execute_result"
    }
   ],
   "source": [
    "''' def times_tables():\n",
    "    lst = []\n",
    "    for i in range(10):\n",
    "        for j in range (10):\n",
    "            lst.append(i*j)\n",
    "    return lst\n",
    "\n",
    "times_tables() == [???] '''"
   ]
  },
  {
   "cell_type": "code",
   "execution_count": 199,
   "id": "b385b682",
   "metadata": {},
   "outputs": [],
   "source": [
    "lst = [ i * j for i in range(10) for j in range(10) ] "
   ]
  },
  {
   "cell_type": "markdown",
   "id": "043b79b2",
   "metadata": {},
   "source": [
    "### Q6) Here’s a harder question which brings a few things together."
   ]
  },
  {
   "cell_type": "code",
   "execution_count": 202,
   "id": "1496bf3d",
   "metadata": {},
   "outputs": [
    {
     "data": {
      "text/plain": [
       "\" lowercase = 'abcdefghijklmnopqrstuvwxyz'\\ndigits = '0123456789'\\n\\nanswer = [???]\\ncorrect_answer == answer \""
      ]
     },
     "execution_count": 202,
     "metadata": {},
     "output_type": "execute_result"
    }
   ],
   "source": [
    "''' Many organizations have user ids which are constrained in some way. \n",
    "Imagine you work at an internet service provider and the user ids are all two letters followed by two numbers \n",
    "(e.g. aa49). Your task at such an organization might be to hold a record on the billing activity for each possible user. \n",
    "\n",
    "Write an initialization line as a single list comprehension which creates a list of \n",
    "all possible user ids. Assume the letters are all lower case. '''\n",
    "\n",
    "''' lowercase = 'abcdefghijklmnopqrstuvwxyz'\n",
    "digits = '0123456789'\n",
    "\n",
    "answer = [???]\n",
    "correct_answer == answer '''"
   ]
  },
  {
   "cell_type": "code",
   "execution_count": 203,
   "id": "a50ce6d8",
   "metadata": {},
   "outputs": [],
   "source": [
    "lowercase = 'abcdefghijklmnopqrstuvwxyz'\n",
    "digits = '0123456789'"
   ]
  },
  {
   "cell_type": "code",
   "execution_count": 225,
   "id": "ea5841ac",
   "metadata": {},
   "outputs": [],
   "source": [
    "char_options = [char1 + char2 for char1 in lowercase for char2 in lowercase]\n",
    "digits_options = [char1 + char2 for char1 in digits for char2 in digits]\n",
    "id_options = [chars + digit for digit in digits_options for chars in char_options ]"
   ]
  },
  {
   "cell_type": "code",
   "execution_count": 226,
   "id": "0a7b53bb",
   "metadata": {},
   "outputs": [],
   "source": [
    "id_option = [char1 + char2 + d1 + d2 for char1 in lowercase for char2 in lowercase for d1 in digits for d2 in digits]"
   ]
  },
  {
   "cell_type": "code",
   "execution_count": 236,
   "id": "691c4ec0",
   "metadata": {},
   "outputs": [
    {
     "ename": "AssertionError",
     "evalue": "",
     "output_type": "error",
     "traceback": [
      "\u001b[1;31m---------------------------------------------------------------------------\u001b[0m",
      "\u001b[1;31mAssertionError\u001b[0m                            Traceback (most recent call last)",
      "\u001b[1;32mC:\\Users\\AYA~1.KHA\\AppData\\Local\\Temp/ipykernel_14276/2108079625.py\u001b[0m in \u001b[0;36m<module>\u001b[1;34m\u001b[0m\n\u001b[1;32m----> 1\u001b[1;33m \u001b[1;32massert\u001b[0m \u001b[0mid_option\u001b[0m \u001b[1;33m==\u001b[0m \u001b[0mid_options\u001b[0m \u001b[1;31m#AssertionError because of the order of the lists\u001b[0m\u001b[1;33m\u001b[0m\u001b[1;33m\u001b[0m\u001b[0m\n\u001b[0m",
      "\u001b[1;31mAssertionError\u001b[0m: "
     ]
    }
   ],
   "source": [
    "assert id_option == id_options #AssertionError because of the order of the lists"
   ]
  },
  {
   "cell_type": "code",
   "execution_count": 212,
   "id": "ddf65b22",
   "metadata": {},
   "outputs": [],
   "source": [
    "#assert char_options == char_lists"
   ]
  },
  {
   "cell_type": "code",
   "execution_count": 237,
   "id": "3ca030a9",
   "metadata": {},
   "outputs": [
    {
     "data": {
      "text/plain": [
       "' char_list = [char for char in lowercase]\\nchar_lists = []\\nfor first_iter in lowercase:\\n    for second_iter in lowercase:\\n        char_lists.append(first_iter + second_iter)\\n        print(char_lists)  '"
      ]
     },
     "execution_count": 237,
     "metadata": {},
     "output_type": "execute_result"
    }
   ],
   "source": [
    "''' char_list = [char for char in lowercase]\n",
    "char_lists = []\n",
    "for first_iter in lowercase:\n",
    "    for second_iter in lowercase:\n",
    "        char_lists.append(first_iter + second_iter)\n",
    "        print(char_lists)  '''"
   ]
  },
  {
   "cell_type": "code",
   "execution_count": 205,
   "id": "3ea9c07d",
   "metadata": {},
   "outputs": [
    {
     "ename": "ValueError",
     "evalue": "empty separator",
     "output_type": "error",
     "traceback": [
      "\u001b[1;31m---------------------------------------------------------------------------\u001b[0m",
      "\u001b[1;31mValueError\u001b[0m                                Traceback (most recent call last)",
      "\u001b[1;32mC:\\Users\\AYA~1.KHA\\AppData\\Local\\Temp/ipykernel_14276/1148472038.py\u001b[0m in \u001b[0;36m<module>\u001b[1;34m\u001b[0m\n\u001b[1;32m----> 1\u001b[1;33m \u001b[0mlowercase\u001b[0m\u001b[1;33m.\u001b[0m\u001b[0msplit\u001b[0m\u001b[1;33m(\u001b[0m\u001b[1;34m''\u001b[0m\u001b[1;33m)\u001b[0m\u001b[1;33m\u001b[0m\u001b[1;33m\u001b[0m\u001b[0m\n\u001b[0m",
      "\u001b[1;31mValueError\u001b[0m: empty separator"
     ]
    }
   ],
   "source": [
    "lowercase.split('')"
   ]
  },
  {
   "cell_type": "markdown",
   "id": "1b8249d9",
   "metadata": {},
   "source": [
    "### Testing "
   ]
  },
  {
   "cell_type": "code",
   "execution_count": 16,
   "id": "dcfb625d",
   "metadata": {},
   "outputs": [
    {
     "data": {
      "text/plain": [
       "12"
      ]
     },
     "execution_count": 16,
     "metadata": {},
     "output_type": "execute_result"
    }
   ],
   "source": [
    "do_math(5,7)    \n",
    "do_math(5,7,'add')"
   ]
  },
  {
   "cell_type": "code",
   "execution_count": 17,
   "id": "c49aa08c",
   "metadata": {},
   "outputs": [
    {
     "data": {
      "text/plain": [
       "43"
      ]
     },
     "execution_count": 17,
     "metadata": {},
     "output_type": "execute_result"
    }
   ],
   "source": [
    "do_math(50,7,'odd')"
   ]
  },
  {
   "cell_type": "code",
   "execution_count": 19,
   "id": "74355626",
   "metadata": {},
   "outputs": [
    {
     "data": {
      "text/plain": [
       "12"
      ]
     },
     "execution_count": 19,
     "metadata": {},
     "output_type": "execute_result"
    }
   ],
   "source": [
    "def do_math(a,b , kind = 'add'):\n",
    "    if kind == 'add':\n",
    "        return a + b \n",
    "    else:\n",
    "        return a - b \n",
    "    \n",
    "do_math(5,7)    \n"
   ]
  },
  {
   "cell_type": "code",
   "execution_count": 30,
   "id": "519cb6c0",
   "metadata": {},
   "outputs": [],
   "source": [
    "result = do_math(5,7)"
   ]
  },
  {
   "cell_type": "code",
   "execution_count": 31,
   "id": "9b56baf3",
   "metadata": {},
   "outputs": [
    {
     "data": {
      "text/plain": [
       "12"
      ]
     },
     "execution_count": 31,
     "metadata": {},
     "output_type": "execute_result"
    }
   ],
   "source": [
    "result"
   ]
  },
  {
   "cell_type": "code",
   "execution_count": 32,
   "id": "aa7d1d43",
   "metadata": {},
   "outputs": [],
   "source": [
    "def do_math(x,y):\n",
    "    y = x + y "
   ]
  },
  {
   "cell_type": "code",
   "execution_count": 33,
   "id": "4a52d67e",
   "metadata": {},
   "outputs": [],
   "source": [
    "result = do_math(5,7)"
   ]
  },
  {
   "cell_type": "code",
   "execution_count": 34,
   "id": "85eb1495",
   "metadata": {},
   "outputs": [
    {
     "name": "stdout",
     "output_type": "stream",
     "text": [
      "None\n"
     ]
    }
   ],
   "source": [
    "print(result)"
   ]
  },
  {
   "cell_type": "markdown",
   "id": "b08a69c6",
   "metadata": {},
   "source": [
    "### list "
   ]
  },
  {
   "cell_type": "code",
   "execution_count": 20,
   "id": "9a8eb188",
   "metadata": {},
   "outputs": [
    {
     "name": "stdout",
     "output_type": "stream",
     "text": [
      "[1, 2, 3]\n"
     ]
    }
   ],
   "source": [
    "ls = [1,2,3,4,5,6,7,8,9]\n",
    "print(ls[0:3])"
   ]
  },
  {
   "cell_type": "code",
   "execution_count": 24,
   "id": "deea479d",
   "metadata": {},
   "outputs": [
    {
     "name": "stdout",
     "output_type": "stream",
     "text": [
      "[6, 7, 8]\n"
     ]
    }
   ],
   "source": [
    "print(ls[-4:-1])"
   ]
  },
  {
   "cell_type": "code",
   "execution_count": 35,
   "id": "2e44d41b",
   "metadata": {},
   "outputs": [
    {
     "data": {
      "text/plain": [
       "[5, 4, 5, 4, 5, 4, 5, 4, 5, 4, 5, 4, 5, 4, 5, 4, 5, 4, 5, 4, 5, 4, 5, 4]"
      ]
     },
     "execution_count": 35,
     "metadata": {},
     "output_type": "execute_result"
    }
   ],
   "source": [
    "[5,4] * 12"
   ]
  },
  {
   "cell_type": "code",
   "execution_count": 36,
   "id": "dead29e3",
   "metadata": {},
   "outputs": [
    {
     "data": {
      "text/plain": [
       "(4, 2, 4, 2, 4, 2, 4, 2, 4, 2)"
      ]
     },
     "execution_count": 36,
     "metadata": {},
     "output_type": "execute_result"
    }
   ],
   "source": [
    "(4,2) * 5"
   ]
  },
  {
   "cell_type": "code",
   "execution_count": 37,
   "id": "19c67e81",
   "metadata": {},
   "outputs": [
    {
     "data": {
      "text/plain": [
       "(2, 7, 7, 8)"
      ]
     },
     "execution_count": 37,
     "metadata": {},
     "output_type": "execute_result"
    }
   ],
   "source": [
    "(2,7) + (7,8)"
   ]
  },
  {
   "cell_type": "code",
   "execution_count": 39,
   "id": "ccfccea0",
   "metadata": {},
   "outputs": [
    {
     "data": {
      "text/plain": [
       "'Python is'"
      ]
     },
     "execution_count": 39,
     "metadata": {},
     "output_type": "execute_result"
    }
   ],
   "source": [
    "'Python' + ' is'"
   ]
  },
  {
   "cell_type": "code",
   "execution_count": 40,
   "id": "c5fe23d7",
   "metadata": {},
   "outputs": [
    {
     "data": {
      "text/plain": [
       "True"
      ]
     },
     "execution_count": 40,
     "metadata": {},
     "output_type": "execute_result"
    }
   ],
   "source": [
    "'i' in 'is'"
   ]
  },
  {
   "cell_type": "markdown",
   "id": "ccb86622",
   "metadata": {},
   "source": [
    "### slicing "
   ]
  },
  {
   "cell_type": "code",
   "execution_count": 25,
   "id": "a2570af3",
   "metadata": {},
   "outputs": [],
   "source": [
    "s = 'python is interpreted language'"
   ]
  },
  {
   "cell_type": "code",
   "execution_count": 26,
   "id": "887132f9",
   "metadata": {},
   "outputs": [
    {
     "data": {
      "text/plain": [
       "'e'"
      ]
     },
     "execution_count": 26,
     "metadata": {},
     "output_type": "execute_result"
    }
   ],
   "source": [
    "s[-1]"
   ]
  },
  {
   "cell_type": "code",
   "execution_count": 27,
   "id": "71b9ad2c",
   "metadata": {},
   "outputs": [
    {
     "data": {
      "text/plain": [
       "30"
      ]
     },
     "execution_count": 27,
     "metadata": {},
     "output_type": "execute_result"
    }
   ],
   "source": [
    "len(s)"
   ]
  },
  {
   "cell_type": "code",
   "execution_count": 28,
   "id": "a8069491",
   "metadata": {},
   "outputs": [
    {
     "data": {
      "text/plain": [
       "'python is interpreted language'"
      ]
     },
     "execution_count": 28,
     "metadata": {},
     "output_type": "execute_result"
    }
   ],
   "source": [
    "s[0:30]"
   ]
  },
  {
   "cell_type": "code",
   "execution_count": 29,
   "id": "967199e9",
   "metadata": {},
   "outputs": [
    {
     "data": {
      "text/plain": [
       "'python is interpreted languag'"
      ]
     },
     "execution_count": 29,
     "metadata": {},
     "output_type": "execute_result"
    }
   ],
   "source": [
    "s[0:29]"
   ]
  },
  {
   "cell_type": "code",
   "execution_count": 50,
   "id": "85379559",
   "metadata": {},
   "outputs": [
    {
     "data": {
      "text/plain": [
       "['python', 'is', 'interpreted', 'language']"
      ]
     },
     "execution_count": 50,
     "metadata": {},
     "output_type": "execute_result"
    }
   ],
   "source": [
    "s.split(' ')"
   ]
  },
  {
   "cell_type": "code",
   "execution_count": 51,
   "id": "3d6e343a",
   "metadata": {},
   "outputs": [],
   "source": [
    "ls = s.split(' ')"
   ]
  },
  {
   "cell_type": "code",
   "execution_count": 53,
   "id": "1da800ea",
   "metadata": {},
   "outputs": [
    {
     "ename": "AttributeError",
     "evalue": "'list' object has no attribute 'split'",
     "output_type": "error",
     "traceback": [
      "\u001b[1;31m---------------------------------------------------------------------------\u001b[0m",
      "\u001b[1;31mAttributeError\u001b[0m                            Traceback (most recent call last)",
      "\u001b[1;32mC:\\Users\\AYA~1.KHA\\AppData\\Local\\Temp/ipykernel_14276/2536456608.py\u001b[0m in \u001b[0;36m<module>\u001b[1;34m\u001b[0m\n\u001b[1;32m----> 1\u001b[1;33m \u001b[0mls\u001b[0m\u001b[1;33m.\u001b[0m\u001b[0msplit\u001b[0m\u001b[1;33m(\u001b[0m\u001b[1;33m)\u001b[0m\u001b[1;33m\u001b[0m\u001b[1;33m\u001b[0m\u001b[0m\n\u001b[0m",
      "\u001b[1;31mAttributeError\u001b[0m: 'list' object has no attribute 'split'"
     ]
    }
   ],
   "source": [
    "ls.split()"
   ]
  },
  {
   "cell_type": "markdown",
   "id": "c3202048",
   "metadata": {},
   "source": [
    "### datetime"
   ]
  },
  {
   "cell_type": "code",
   "execution_count": 67,
   "id": "eda1d9c8",
   "metadata": {},
   "outputs": [],
   "source": [
    "from datetime import datetime as dt"
   ]
  },
  {
   "cell_type": "code",
   "execution_count": 55,
   "id": "423e4555",
   "metadata": {},
   "outputs": [],
   "source": [
    "import time as t"
   ]
  },
  {
   "cell_type": "code",
   "execution_count": 62,
   "id": "f92310c1",
   "metadata": {},
   "outputs": [],
   "source": [
    "tm = t.time()"
   ]
  },
  {
   "cell_type": "code",
   "execution_count": 68,
   "id": "aa62f30d",
   "metadata": {},
   "outputs": [],
   "source": [
    "today = dt.fromtimestamp(t.time())"
   ]
  },
  {
   "cell_type": "code",
   "execution_count": 69,
   "id": "110f3905",
   "metadata": {},
   "outputs": [
    {
     "data": {
      "text/plain": [
       "datetime.datetime(2022, 1, 14, 14, 34, 16, 89525)"
      ]
     },
     "execution_count": 69,
     "metadata": {},
     "output_type": "execute_result"
    }
   ],
   "source": [
    "today"
   ]
  },
  {
   "cell_type": "code",
   "execution_count": 70,
   "id": "67e2520b",
   "metadata": {},
   "outputs": [
    {
     "data": {
      "text/plain": [
       "2022"
      ]
     },
     "execution_count": 70,
     "metadata": {},
     "output_type": "execute_result"
    }
   ],
   "source": [
    "today.year"
   ]
  },
  {
   "cell_type": "code",
   "execution_count": 75,
   "id": "83faf7e9",
   "metadata": {},
   "outputs": [],
   "source": [
    "from datetime import timedelta"
   ]
  },
  {
   "cell_type": "code",
   "execution_count": 83,
   "id": "d3e9564c",
   "metadata": {},
   "outputs": [],
   "source": [
    "from datetime import timedelta\n",
    "delta = timedelta(days=50)"
   ]
  }
 ],
 "metadata": {
  "kernelspec": {
   "display_name": "Python 3 (ipykernel)",
   "language": "python",
   "name": "python3"
  },
  "language_info": {
   "codemirror_mode": {
    "name": "ipython",
    "version": 3
   },
   "file_extension": ".py",
   "mimetype": "text/x-python",
   "name": "python",
   "nbconvert_exporter": "python",
   "pygments_lexer": "ipython3",
   "version": "3.9.7"
  }
 },
 "nbformat": 4,
 "nbformat_minor": 5
}
